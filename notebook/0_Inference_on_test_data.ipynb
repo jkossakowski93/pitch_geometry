{
 "cells": [
  {
   "cell_type": "markdown",
   "id": "241cd09a-92ae-408b-8bda-b3d32089b41b",
   "metadata": {},
   "source": [
    "## put yolov7_pitch.yaml to cfg/training folder\n",
    "## put pitch_data.yaml to data folder\n",
    "## put inference data to inference/images"
   ]
  },
  {
   "cell_type": "code",
   "execution_count": null,
   "id": "4ae78ba8-49a8-4bab-b466-8b8acf9bbfba",
   "metadata": {},
   "outputs": [],
   "source": [
    "import os\n",
    "import pandas as pd\n",
    "import matplotlib.pyplot as plt\n",
    "import matplotlib.image as mpimg\n",
    "from sklearn.model_selection import train_test_split\n",
    "import shutil\n",
    "from PIL import Image, ImageDraw\n",
    "import numpy as np"
   ]
  },
  {
   "cell_type": "code",
   "execution_count": null,
   "id": "d956de07-b6cb-46c9-b5c3-cf2ed53f532c",
   "metadata": {},
   "outputs": [],
   "source": [
    "path = os.getcwd()"
   ]
  },
  {
   "cell_type": "code",
   "execution_count": null,
   "id": "a160b6fa-51fc-46c5-ac23-0ac4b080d84f",
   "metadata": {},
   "outputs": [],
   "source": [
    "path"
   ]
  },
  {
   "cell_type": "code",
   "execution_count": null,
   "id": "ccfc8528-2e64-41d1-89e6-8ea1c2ad393c",
   "metadata": {},
   "outputs": [],
   "source": [
    "# results from 1. training are located at:\n",
    "# ./runs/train/yolov7_pitch_04\n",
    "# best weights named best_0 are placed in ./"
   ]
  },
  {
   "cell_type": "markdown",
   "id": "5e562204-7f47-4855-96b6-7a893f89506e",
   "metadata": {},
   "source": [
    "## running inference on test data"
   ]
  },
  {
   "cell_type": "code",
   "execution_count": null,
   "id": "d90fb584-c3f0-4239-8505-f20394472e79",
   "metadata": {},
   "outputs": [],
   "source": [
    "!cd ."
   ]
  },
  {
   "cell_type": "code",
   "execution_count": null,
   "id": "567c7b2a-49a0-43f2-9eee-5e4f4303680a",
   "metadata": {},
   "outputs": [],
   "source": [
    "# put your path to main directory here\n",
    "os.chdir('C:\\\\Users\\\\Kossa\\\\Desktop\\\\respo_vision\\\\yolov7-pitch')"
   ]
  },
  {
   "cell_type": "code",
   "execution_count": null,
   "id": "6080c9dd-f01a-4995-9ebc-626ea909d1f7",
   "metadata": {},
   "outputs": [],
   "source": [
    "os.getcwd()"
   ]
  },
  {
   "cell_type": "code",
   "execution_count": null,
   "id": "14dafe27-5e1a-4a2b-9bbc-6547053ee2a4",
   "metadata": {
    "scrolled": true
   },
   "outputs": [],
   "source": [
    "!python detect.py --weights best_0.pt --conf 0.5 --img-size 640 --source inference/images --save-txt "
   ]
  },
  {
   "cell_type": "code",
   "execution_count": null,
   "id": "e81f4cff-4495-4115-8ef9-05dbce3996e1",
   "metadata": {},
   "outputs": [],
   "source": [
    "os.chdir('C:\\\\Users\\\\Kossa\\\\Desktop\\\\respo_vision\\\\yolov7-pitch\\\\notebook')"
   ]
  },
  {
   "cell_type": "code",
   "execution_count": null,
   "id": "012b9791-0d5f-40e2-b736-2833c3e9fbf9",
   "metadata": {},
   "outputs": [],
   "source": [
    "os.getcwd()"
   ]
  },
  {
   "cell_type": "code",
   "execution_count": null,
   "id": "80abd05a-554e-4455-a8a0-30f08802b9fb",
   "metadata": {},
   "outputs": [],
   "source": [
    "# put df_keypoints.csv in notebook folder"
   ]
  },
  {
   "cell_type": "code",
   "execution_count": null,
   "id": "729fbc0b-73a0-4b3e-b820-2ac7fc4c2949",
   "metadata": {},
   "outputs": [],
   "source": [
    "labels_df = pd.read_csv('df_keypoints.csv')"
   ]
  },
  {
   "cell_type": "code",
   "execution_count": null,
   "id": "15589b4d-9a8c-4449-b7b9-c94c9d337ff1",
   "metadata": {},
   "outputs": [],
   "source": [
    "labels_df[labels_df['dataset'] == 'test']"
   ]
  },
  {
   "cell_type": "code",
   "execution_count": null,
   "id": "4a0add72-0e5d-4bb4-8143-5c4e80d5675a",
   "metadata": {},
   "outputs": [],
   "source": [
    "filenames = labels_df.loc[labels_df['dataset'] == 'test', 'image_path'].unique()"
   ]
  },
  {
   "cell_type": "code",
   "execution_count": null,
   "id": "4dee327a-6729-4324-9700-381a21bba37b",
   "metadata": {},
   "outputs": [],
   "source": [
    "len(labels_df.loc[labels_df['dataset'] == 'test', 'image_path'].unique())"
   ]
  },
  {
   "cell_type": "code",
   "execution_count": null,
   "id": "eb7b8001-f8be-4dc8-9abb-1d48a91509a7",
   "metadata": {},
   "outputs": [],
   "source": [
    "labels_df.isna().any().any()"
   ]
  },
  {
   "cell_type": "code",
   "execution_count": null,
   "id": "69e21e2e-5b23-4bae-81e4-88d07406ec07",
   "metadata": {},
   "outputs": [],
   "source": [
    "path2 = 'C:\\\\Users\\\\Kossa\\\\Desktop\\\\respo_vision\\\\yolov7-pitch'\n",
    "#yolov7-pitch\\runs\\detect\\exp\\labels <---- location of results labels"
   ]
  },
  {
   "cell_type": "code",
   "execution_count": null,
   "id": "125d2071-757e-40cc-8c96-8e4e57f3296e",
   "metadata": {},
   "outputs": [],
   "source": [
    "# check which exp folder is generated"
   ]
  },
  {
   "cell_type": "code",
   "execution_count": null,
   "id": "b95ef27a-3ca2-4898-addd-5f2d4db0ba32",
   "metadata": {},
   "outputs": [],
   "source": [
    "# <object-class-id> <x> <y> <width> <height>\n",
    "# label_pad = 50 #px\n",
    "infer_data = {}\n",
    "exp = 'exp5' # put your exp folder here \n",
    "for filename in filenames:\n",
    "\n",
    "    # print(df[1]['x'])\n",
    "    source_path = filename\n",
    "    filename = filename.split('/')[-1][:-4]\n",
    "\n",
    "    # print(filename, '\\n')\n",
    "    temp = []\n",
    "    duplicate_classes = [] #checking for duplciate classes in output\n",
    "\n",
    "    with open(f'{path2}\\\\runs\\\\detect\\\\{exp}\\\\labels\\\\{filename}.txt', 'r') as file:\n",
    "        lines = file.readlines()\n",
    "        for line in lines:\n",
    "            # print(line)\n",
    "            data = line.split(' ')\n",
    "            if data[0] not in temp:\n",
    "                temp.append(data[0])\n",
    "            else:\n",
    "                duplicate_classes.append(data[0])\n",
    "\n",
    "            labels_df.loc[(labels_df['image_path'] == source_path) & (labels_df['kid'] == int(data[0])), \n",
    "                        ['x', 'y']] = int(float(data[1])*1920), int(float(data[2])*1080)\n",
    "                                                                                                                        \n",
    "                "
   ]
  },
  {
   "cell_type": "code",
   "execution_count": null,
   "id": "0b7f1f4a-0be5-4dd5-9536-c3c13e2949ba",
   "metadata": {
    "scrolled": true
   },
   "outputs": [],
   "source": [
    "pd.set_option('display.max_row', 100)\n",
    "labels_df[labels_df['dataset'] == 'test'].head(100)"
   ]
  },
  {
   "cell_type": "code",
   "execution_count": null,
   "id": "972aa193-d11d-4d30-9c98-a31effc80b94",
   "metadata": {},
   "outputs": [],
   "source": [
    "labels_df.loc[(labels_df['x'] > 0) | (val_df['y'] > 0)  ,'vis'] = 2"
   ]
  },
  {
   "cell_type": "code",
   "execution_count": null,
   "id": "a10cd567-7da2-49a3-8780-b5b590c51422",
   "metadata": {},
   "outputs": [],
   "source": [
    "labels_df.head(100)"
   ]
  },
  {
   "cell_type": "code",
   "execution_count": null,
   "id": "21bd166c-e4e7-48fe-964f-fdf727a1fc45",
   "metadata": {},
   "outputs": [],
   "source": [
    "labels_df.to_csv('df_keypoints_test_filled.csv')"
   ]
  },
  {
   "cell_type": "code",
   "execution_count": null,
   "id": "5b09f9e9-b064-4194-9438-073561ee332d",
   "metadata": {},
   "outputs": [],
   "source": []
  }
 ],
 "metadata": {
  "kernelspec": {
   "display_name": "Python 3 (ipykernel)",
   "language": "python",
   "name": "python3"
  },
  "language_info": {
   "codemirror_mode": {
    "name": "ipython",
    "version": 3
   },
   "file_extension": ".py",
   "mimetype": "text/x-python",
   "name": "python",
   "nbconvert_exporter": "python",
   "pygments_lexer": "ipython3",
   "version": "3.9.17"
  }
 },
 "nbformat": 4,
 "nbformat_minor": 5
}
